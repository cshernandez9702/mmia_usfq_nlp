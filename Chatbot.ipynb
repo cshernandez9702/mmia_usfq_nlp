{
  "nbformat": 4,
  "nbformat_minor": 0,
  "metadata": {
    "colab": {
      "provenance": []
    },
    "kernelspec": {
      "name": "python3",
      "display_name": "Python 3"
    },
    "language_info": {
      "name": "python"
    }
  },
  "cells": [
    {
      "cell_type": "markdown",
      "source": [
        "# LAB 1 NLP\n",
        "\n",
        "Felipe Toscano\n",
        "Christian Hernandez"
      ],
      "metadata": {
        "id": "La4Xr07LoPf-"
      }
    },
    {
      "cell_type": "markdown",
      "source": [
        "##Build a rule-based chatbot. The bot will do the following activities:\n",
        "\n",
        "When a greeting is recognized, start the conversation\n",
        "You’ll give 2 options that the user can ask you about the weather or the stock market\n",
        "You’ll reply and ask if they have a follow\n",
        "A user can ask up to 2 questions\n",
        "You’ll dismiss the user with a greeting"
      ],
      "metadata": {
        "id": "iVfwoLlEopR3"
      }
    },
    {
      "cell_type": "code",
      "execution_count": null,
      "metadata": {
        "colab": {
          "base_uri": "https://localhost:8080/"
        },
        "id": "FWhGLDaKRAYU",
        "outputId": "50ee337d-e799-4d58-fe3f-ee759d6e1636"
      },
      "outputs": [
        {
          "output_type": "stream",
          "name": "stdout",
          "text": [
            "¿Te gustaría conocer el pronóstico del clima o cómo va el mercado de valores? ¡Podrías empezar con un saludo para que te lo cuente! hola\n",
            "¡Hola! ¿Sobre qué te gustaría hablar? Puedes preguntarme sobre el clima o el mercado de valores. clima\n",
            "El pronóstico del clima para hoy es soleado con una ligera brisa.\n",
            "¿Te gustaría saber algo más como la hora o el día?día\n",
            "Hoy es lunes.\n",
            "¿Te gustaría saber algo más como la hora o el día?dias\n",
            "Hoy es lunes.\n",
            "¿Te gustaría saber algo más como la hora o el día?hora\n",
            "La hora actual es 22:38.\n",
            "¿Te gustaría saber algo más como la hora o el día?gracias\n",
            "Siempre listo para ayudar. Hasta luego!\n"
          ]
        }
      ],
      "source": [
        "import re\n",
        "import datetime\n",
        "import pytz\n",
        "\n",
        "\n",
        "# Expresión regular para reconocer saludos\n",
        "re_greeting = re.compile(r\"(?i)\\b(hola|buen\\w*|saludos)\\b\")\n",
        "\n",
        "# Expresiones regulares para las preguntas sobre clima y mercado de valores\n",
        "weather_pattern = re.compile(r\"\\b(clima|tiempo|pron[oó]stico)\\b\", re.IGNORECASE)\n",
        "stock_pattern = re.compile(r\"\\b(mercado|bolsa|acciones)\\b\", re.IGNORECASE)\n",
        "\n",
        "# Expresión regular para las preguntas sobre la hora\n",
        "time_pattern = re.compile(r\"\\b(hora)\\b\", re.IGNORECASE)\n",
        "\n",
        "# Espreción regular para las preguntas sobre el día\n",
        "day_pattern = re.compile(r\"\\b(d[ií]a[s]?)\\b\", re.IGNORECASE)\n",
        "\n",
        "# Diccionario para traducir los días de la semana de inglés a español\n",
        "days_translation = {\n",
        "    \"Monday\": \"lunes\",\n",
        "    \"Tuesday\": \"martes\",\n",
        "    \"Wednesday\": \"miércoles\",\n",
        "    \"Thursday\": \"jueves\",\n",
        "    \"Friday\": \"viernes\",\n",
        "    \"Saturday\": \"sábado\",\n",
        "    \"Sunday\": \"domingo\"\n",
        "}\n",
        "\n",
        "index_pattern = re.compile(r\"\\b([ií]ndice|valor|burs[aá]til)\\b\", re.IGNORECASE)\n",
        "market_news_pattern = re.compile(r\"\\b(noti\\w*|eventos)\\b\", re.IGNORECASE)\n",
        "\n",
        "# Expresión regular para reconocer despedidas en español\n",
        "goodbye_pattern = re.compile(r\"\\b(adi[oó]s|hasta (luego|pronto)|nos vemos|cha[oiu]|me voy|gracias|ch[eé]vere|buen\\w*)\\b\", re.IGNORECASE)\n",
        "\n",
        "\n",
        "\n",
        "# Función para iniciar el chatbot\n",
        "def chatbot():\n",
        "    exit_program = False\n",
        "\n",
        "\n",
        "    while True:\n",
        "      user_input = input(\"¿Te gustaría conocer el pronóstico del clima o cómo va el mercado de valores? ¡Podrías empezar con un saludo para que te lo cuente! \")\n",
        "      if re_greeting.search(user_input):\n",
        "        user_input = input(\"¡Hola! ¿Sobre qué te gustaría hablar? Puedes preguntarme sobre el clima o el mercado de valores. \")\n",
        "        break\n",
        "      else:\n",
        "        print(\"Lo siento, no entiendo tu pregunta.\")\n",
        "\n",
        "\n",
        "    while True:\n",
        "      # Verifica si el usuario pregunta sobre el clima\n",
        "      if weather_pattern.search(user_input):\n",
        "          print(\"El pronóstico del clima para hoy es soleado con una ligera brisa.\")\n",
        "\n",
        "          while True:\n",
        "            user_input = input(\"¿Te gustaría saber algo más como la hora o el día?\")\n",
        "            # Verifica si el usuario quiere saber la hora\n",
        "            if time_pattern.search(user_input):\n",
        "                ecuador_timezone = pytz.timezone('America/Guayaquil')\n",
        "                current_time = datetime.datetime.now(ecuador_timezone).strftime(\"%H:%M\")\n",
        "                print(f\"La hora actual es {current_time}.\")\n",
        "\n",
        "            elif day_pattern.search(user_input):\n",
        "              # Día de la semana en inglés\n",
        "              current_day_english = datetime.datetime.now().strftime(\"%A\")\n",
        "\n",
        "              # Traducir el día al español usando el diccionario\n",
        "              current_day_spanish = days_translation[current_day_english]\n",
        "\n",
        "              print(f\"Hoy es {current_day_spanish}.\")\n",
        "\n",
        "            elif goodbye_pattern.search(user_input):\n",
        "              exit_program = True\n",
        "              print(\"Siempre listo para ayudar. Hasta luego!\")\n",
        "              break\n",
        "\n",
        "            else:\n",
        "                print(\"Lo siento, no entiendo tu pregunta.\")\n",
        "          if exit_program:\n",
        "              break\n",
        "\n",
        "\n",
        "      # Verifica si el usuario pregunta sobre el mercado de valores\n",
        "      elif stock_pattern.search(user_input):\n",
        "          print(\"El mercado de valores ha tenido una tendencia alcista en los últimos días.\")\n",
        "\n",
        "          while True:\n",
        "            user_input = input(\"¿Te gustaría saber algo más como el índice bursátil o noticias y eventos que afecten el mercado?\")\n",
        "\n",
        "            if index_pattern.search(user_input):\n",
        "              print(\"El índice bursátil actual es 35,000 puntos.\")\n",
        "\n",
        "            # Verifica si el usuario pregunta sobre el precio de las acciones de una empresa específica\n",
        "            elif market_news_pattern.search(user_input):\n",
        "              print(\"Hoy, el mercado está siendo influenciado por los últimos reportes de ganancias.\")\n",
        "\n",
        "            # Verifica si el usuario se despide\n",
        "            elif goodbye_pattern.search(user_input):\n",
        "                exit_program = True\n",
        "                print(\"Siempre listo para ayudar. ¡Hasta luego!\")\n",
        "                break\n",
        "\n",
        "            else:\n",
        "                print(\"Lo siento, no entiendo tu pregunta.\")\n",
        "      if exit_program:\n",
        "              break\n",
        "\n",
        "\n",
        "      else:\n",
        "          print(\"Lo siento, no entiendo tu pregunta.\")\n",
        "\n",
        "# Ejecutar el chatbot\n",
        "chatbot()"
      ]
    }
  ]
}